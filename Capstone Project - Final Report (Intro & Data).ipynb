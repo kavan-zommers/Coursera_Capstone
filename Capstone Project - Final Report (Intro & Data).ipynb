{
    "cells": [
        {
            "cell_type": "markdown",
            "metadata": {
                "collapsed": true
            },
            "source": "# Applied Data Science Capstone - Final Report"
        },
        {
            "cell_type": "markdown",
            "metadata": {},
            "source": "### Introduction / Business Problem"
        },
        {
            "cell_type": "markdown",
            "metadata": {},
            "source": "As a consultant, one of the most important things is consistency, amidst a world of inconsistency. What I mean by that is that you must control certain aspects of your life, such as your daily habits, in order to be able to react to what the day may throw at you in the office (events out of your control). On the road, this is extremely important - flying each week to a client site can be both physically and mentally taxing. However, by understanding the area around your client site and its similarities to and differences from the neighborhood you live in, it is possible to prepare yourself for both worlds that you'll be bouncing back and forth between.\n\nI currently live in the Lakeview East neighborhood of Chicago, IL, where I am fortunate enough to be surrounded by restaurants, grocery stores, public transportation, gyms, and much more. However, I typically only have the chance to explore each of these venues on the weekends, as I am traveling Monday through Friday for work. This doesn't mean I won't have the opportunity to stick to my habits of working out and eating healthy, though! In this report, we will take a look at the surrounding areas of my next client site in Rhode Island to determine the most appropriate areas to stay during the week so that I can hit a workout each morning, shop for groceries or order food as needed, and remain in close proximity to an airport to make my life easier on \"flydays.\" Specifically, we will be taking a deeper look at each of the zip codes throughout the State, determining the top venues in each, the number of gyms, grocery stores, restaurants, and hotels, and the distance to the nearest major airport.\n\nThe steps that will be outlined in this report can be repeated for any client location and can be altered based on the preferences of the individual, such as proximity to bars or yoga studios!"
        },
        {
            "cell_type": "markdown",
            "metadata": {},
            "source": "### Data"
        },
        {
            "cell_type": "markdown",
            "metadata": {},
            "source": "Several sources of data will be required in order to determine the most appropriate zip code to base myself out of when traveling to the State of Rhode Island. First, we will grab the list of zip codes using a public data set at the following address: https://opendata.arcgis.com/datasets/79ccc9b901684a958ac7134199f82b9f_0.csv. After cleaning the data, we will leverage the geocoder library to determine the coordinates of each of the zip codes. \n\nAfter the initial location data is wrangled, the Foursquare API will be called to collect venue data for the surrounding areas, specifically focusing on the following categories: gyms, grocery stores, restaurants, and hotels.\n\nDistance data will also be collected to store the proximity to airports for travel."
        },
        {
            "cell_type": "code",
            "execution_count": null,
            "metadata": {},
            "outputs": [],
            "source": ""
        }
    ],
    "metadata": {
        "kernelspec": {
            "display_name": "Python 3.6",
            "language": "python",
            "name": "python3"
        },
        "language_info": {
            "codemirror_mode": {
                "name": "ipython",
                "version": 3
            },
            "file_extension": ".py",
            "mimetype": "text/x-python",
            "name": "python",
            "nbconvert_exporter": "python",
            "pygments_lexer": "ipython3",
            "version": "3.6.9"
        }
    },
    "nbformat": 4,
    "nbformat_minor": 1
}