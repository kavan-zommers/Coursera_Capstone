{
    "cells": [
        {
            "cell_type": "markdown",
            "metadata": {
                "collapsed": true
            },
            "source": "# Applied Data Science Capstone - Final Report"
        },
        {
            "cell_type": "markdown",
            "metadata": {},
            "source": "### Introduction / Business Problem"
        },
        {
            "cell_type": "markdown",
            "metadata": {},
            "source": "As a consultant, one of the most important things is consistency, amidst a world of inconsistency. What I mean by that is that you must control certain aspects of your life, such as your daily habits, in order to be able to react to what the day may throw at you in the office (events out of your control). On the road, this is extremely important - flying each week to a client site can be both physically and mentally taxing. However, by understanding the area around your client site and its similarities to and differences from the neighborhood you live in, it is possible to prepare yourself for both worlds that you'll be bouncing back and forth between.\n\nI currently live in the Lakeview East neighborhood of Chicago, IL, where I am fortunate enough to be surrounded by restaurants, grocery stores, public transportation, gyms, and much more. However, I typically only have the chance to explore each of these venues on the weekends, as I am traveling Monday through Friday for work. This doesn't mean I won't have the opportunity to stick to my habits of working out and eating healthy, though! In this report, we will take a look at the surrounding areas of my next client site in Rhode Island to determine the most appropriate areas to stay during the week so that I can hit a workout each morning, shop for groceries or order food as needed, and remain in close proximity to an airport to make my life easier on \"flydays.\" Specifically, we will be taking a deeper look at each of the zip codes throughout the State, determining the top venues in each, the number of gyms, grocery stores, restaurants, and hotels, and the distance to the nearest major airport.\n\nThe steps that will be outlined in this report can be repeated for any client location and can be altered based on the preferences of the individual, such as proximity to bars or yoga studios!"
        },
        {
            "cell_type": "markdown",
            "metadata": {},
            "source": "### Data"
        },
        {
            "cell_type": "markdown",
            "metadata": {},
            "source": "Several sources of data will be required in order to determine the most appropriate zip code to base myself out of when traveling to the State of Rhode Island. First, we will grab the list of zip codes using a public data set at the following address: https://opendata.arcgis.com/datasets/79ccc9b901684a958ac7134199f82b9f_0.csv. After cleaning the data, we will leverage the geocoder library to determine the coordinates of each of the zip codes. \n\nAfter the initial location data is wrangled, the Foursquare API will be called to collect venue data for the surrounding areas, specifically focusing on the following categories: gyms, grocery stores, restaurants, and hotels.\n\nDistance data will also be collected to store the proximity to airports for travel."
        },
        {
            "cell_type": "markdown",
            "metadata": {},
            "source": "### Methodology"
        },
        {
            "cell_type": "markdown",
            "metadata": {},
            "source": "Once the initial data has been collected, wrangled, formatted, and cleaned, the Nominatim library will be leveraged to pull the associated latitudes and longitudes for each of the postal codes within the State of Rhode Island. The resulting coordinated will be appended to the main table, and each of the zip codes will be plotted on a folium map of the State.\n\nNominatim will also be used to pull the coordinates of the nearest major airports, PVD and BOS. Once these coordinates are determined, Vincenty distance (assumes an ellyptical shape of the Earth, rather than spherical) will be used to determine the distance in miles from each zip code to both of the airports. The least of the two distances for each zip code will be considered the proximity to an airport.\n\nNext, credential information for the Foursquare API will be stored in a hidden cell and a function will be defined to get the nearby venues for a location using Foursquare's Explore functionality. Specifically, we will be looking at the venues returned within ~3 miles of the coordinates of the zip code. Once these venues are returned and stored, one-hot coding will be applied in order to work quantitatively with the data.\n\nA user-defined function will then be created to capture the top 15 most common venues for each zip code. The dataframe of this information along with a k-means clustering algorithm then gives us 4 separate clusters of zip codes based on the common venues of each. \n\nAnother user-defined function will be created to capture the number of instances of the preferred venues (gyms, restaurants, grocery stores, and hotels) within each cluster. A weight will be applied to each of the counts to determine an overall score of the cluster based on these preferences. The cluster with the highest score will help to narrow down which zip codes/cities we should stay in while traveling to Rhode Island. Using airport proximity, we can give the most appropriate city to stay in."
        },
        {
            "cell_type": "markdown",
            "metadata": {},
            "source": "### Results"
        },
        {
            "cell_type": "markdown",
            "metadata": {},
            "source": "Based on the preferred venue types, Cluster 3 would be most appropriate. This cluster had the highest overall score due to the instances of gyms, restaurants, grocery stores, and hotels.\n\nBy checking the zip codes within the cluster and their associated proximities to an airport, we can see that the Warwick / Bristol area is the best fit!"
        },
        {
            "cell_type": "markdown",
            "metadata": {},
            "source": "### Discussion"
        },
        {
            "cell_type": "markdown",
            "metadata": {},
            "source": "One of the initial observations made when plotting the zip codes on the map is that there is a zip code being captured for an island just off of the coast. As this would not be a feasible location to stay, it may have been appropriate to remove this code from the data used for clustering."
        },
        {
            "cell_type": "markdown",
            "metadata": {},
            "source": "Additionally, there may have been other metrics that could have been captured in order to determine the most appropriate place to stay, depending on the preferences of the individual / access to fly from more local airports. With there being a handful of smaller airports in the vicinity, the final recommendation of Warwick / Bristol may have changed."
        },
        {
            "cell_type": "markdown",
            "metadata": {},
            "source": "### Conclusion"
        },
        {
            "cell_type": "markdown",
            "metadata": {},
            "source": "In conclusion, seeing that access to gyms, restaurants, grocery stores, and hotels and proximity to airports were of importance, the Warwick / Bristol area would be the best location to stay in while traveling to Rhode Island for work on a weekly basis. In this location, I will be able to maintain my habits and keep consistency throughout the week!"
        }
    ],
    "metadata": {
        "kernelspec": {
            "display_name": "Python 3.6",
            "language": "python",
            "name": "python3"
        },
        "language_info": {
            "codemirror_mode": {
                "name": "ipython",
                "version": 3
            },
            "file_extension": ".py",
            "mimetype": "text/x-python",
            "name": "python",
            "nbconvert_exporter": "python",
            "pygments_lexer": "ipython3",
            "version": "3.6.9"
        }
    },
    "nbformat": 4,
    "nbformat_minor": 1
}